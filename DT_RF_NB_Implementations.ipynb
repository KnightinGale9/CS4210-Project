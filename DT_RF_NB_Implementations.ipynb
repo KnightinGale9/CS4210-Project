{
 "cells": [
  {
   "cell_type": "code",
   "execution_count": 1,
   "id": "c5036e01",
   "metadata": {},
   "outputs": [],
   "source": [
    "from collections import Counter\n",
    "import pandas as pd\n",
    "import matplotlib.pyplot as plt \n",
    "import numpy as np\n",
    "from sklearn.model_selection import train_test_split\n",
    "from sklearn import tree\n",
    "from sklearn import metrics\n",
    "from sklearn.ensemble import RandomForestClassifier\n",
    "from sklearn.metrics import precision_score, recall_score, f1_score, accuracy_score\n",
    "from sklearn.datasets import load_iris\n",
    "from sklearn.model_selection import train_test_split\n",
    "from sklearn.naive_bayes import GaussianNB"
   ]
  },
  {
   "cell_type": "code",
   "execution_count": 2,
   "id": "8d6f4e8c",
   "metadata": {},
   "outputs": [],
   "source": [
    "df = pd.read_csv('creditcard.csv')"
   ]
  },
  {
   "cell_type": "markdown",
   "id": "55748c92",
   "metadata": {},
   "source": [
    "# Data is highly imbalanced"
   ]
  },
  {
   "cell_type": "code",
   "execution_count": 3,
   "id": "3cffb355",
   "metadata": {},
   "outputs": [
    {
     "data": {
      "text/plain": [
       "([<matplotlib.patches.Wedge at 0x17207d106d0>,\n",
       "  <matplotlib.patches.Wedge at 0x17207d10bb0>],\n",
       " [Text(-1.0999849139505065, 0.005760996554156921, 'genuine'),\n",
       "  Text(1.099984914296047, -0.005760930577456522, 'fraudulent')])"
      ]
     },
     "execution_count": 3,
     "metadata": {},
     "output_type": "execute_result"
    },
    {
     "data": {
      "image/png": "[encoded data removed]",
      "text/plain": [
       "<Figure size 640x480 with 1 Axes>"
      ]
     },
     "metadata": {},
     "output_type": "display_data"
    }
   ],
   "source": [
    "df.drop_duplicates(inplace = True)\n",
    "\n",
    "X = df.iloc[:, df.columns != 'Class']\n",
    "y = df.Class;\n",
    "\n",
    "X_train, X_test, y_train, y_test = train_test_split(X, y, test_size=0.20, random_state=12, stratify=y)\n",
    "\n",
    "#plot imbalance\n",
    "counter = Counter(y)\n",
    "plt.pie([counter[0],counter[1]],labels=['genuine', 'fraudulent'])"
   ]
  },
  {
   "cell_type": "markdown",
   "id": "bcb6b5c4",
   "metadata": {},
   "source": [
    "# DT without balancing weights"
   ]
  },
  {
   "cell_type": "code",
   "execution_count": 4,
   "id": "858a2c6d",
   "metadata": {},
   "outputs": [
    {
     "data": {
      "text/plain": [
       "0.9992422373383146"
      ]
     },
     "execution_count": 4,
     "metadata": {},
     "output_type": "execute_result"
    }
   ],
   "source": [
    "model = tree.DecisionTreeClassifier()\n",
    "model.fit(X_train, y_train)\n",
    "# evaluate model\n",
    "yhat = model.predict(X_test)\n",
    "# summarize performance\n",
    "model.score(X_test, y_test)"
   ]
  },
  {
   "cell_type": "code",
   "execution_count": 5,
   "id": "10c75816",
   "metadata": {},
   "outputs": [
    {
     "data": {
      "text/plain": [
       "array([[56627,    24],\n",
       "       [   19,    76]], dtype=int64)"
      ]
     },
     "execution_count": 5,
     "metadata": {},
     "output_type": "execute_result"
    }
   ],
   "source": [
    "metrics.confusion_matrix(y_test, yhat)"
   ]
  },
  {
   "cell_type": "code",
   "execution_count": 6,
   "id": "b3adb125",
   "metadata": {},
   "outputs": [
    {
     "name": "stdout",
     "output_type": "stream",
     "text": [
      "F1 Score: 0.779\n"
     ]
    }
   ],
   "source": [
    "print('F1 Score: %.3f' % f1_score(y_test, yhat))"
   ]
  },
  {
   "cell_type": "markdown",
   "id": "fd3c0c06",
   "metadata": {},
   "source": [
    "# DT with balancing weights"
   ]
  },
  {
   "cell_type": "code",
   "execution_count": 7,
   "id": "c8534bf7",
   "metadata": {},
   "outputs": [
    {
     "data": {
      "text/plain": [
       "0.9992422373383146"
      ]
     },
     "execution_count": 7,
     "metadata": {},
     "output_type": "execute_result"
    }
   ],
   "source": [
    "model2 = tree.DecisionTreeClassifier(class_weight='balanced')\n",
    "model2.fit(X_train, y_train)\n",
    "# evaluate model\n",
    "yhat2 = model2.predict(X_test)\n",
    "# summarize performance\n",
    "model2.score(X_test, y_test)"
   ]
  },
  {
   "cell_type": "code",
   "execution_count": 8,
   "id": "0e55bce4",
   "metadata": {},
   "outputs": [
    {
     "data": {
      "text/plain": [
       "array([[56634,    17],\n",
       "       [   26,    69]], dtype=int64)"
      ]
     },
     "execution_count": 8,
     "metadata": {},
     "output_type": "execute_result"
    }
   ],
   "source": [
    "metrics.confusion_matrix(y_test, yhat2)"
   ]
  },
  {
   "cell_type": "code",
   "execution_count": 9,
   "id": "30145f09",
   "metadata": {},
   "outputs": [
    {
     "name": "stdout",
     "output_type": "stream",
     "text": [
      "F1 Score: 0.762\n"
     ]
    }
   ],
   "source": [
    "print('F1 Score: %.3f' % f1_score(y_test, yhat2))"
   ]
  },
  {
   "cell_type": "markdown",
   "id": "38985657",
   "metadata": {},
   "source": [
    "# Let's try balanced random forest"
   ]
  },
  {
   "cell_type": "code",
   "execution_count": 10,
   "id": "0bcb7f55",
   "metadata": {},
   "outputs": [
    {
     "data": {
      "text/plain": [
       "0.9995241955380115"
      ]
     },
     "execution_count": 10,
     "metadata": {},
     "output_type": "execute_result"
    }
   ],
   "source": [
    "model3 = RandomForestClassifier(class_weight='balanced')\n",
    "model3.fit(X_train, y_train)\n",
    "# evaluate model\n",
    "yhat3 = model3.predict(X_test)\n",
    "# summarize performance\n",
    "model3.score(X_test, y_test)"
   ]
  },
  {
   "cell_type": "code",
   "execution_count": 11,
   "id": "f302b7b5",
   "metadata": {},
   "outputs": [
    {
     "data": {
      "text/plain": [
       "array([[56649,     2],\n",
       "       [   25,    70]], dtype=int64)"
      ]
     },
     "execution_count": 11,
     "metadata": {},
     "output_type": "execute_result"
    }
   ],
   "source": [
    "metrics.confusion_matrix(y_test, yhat3)"
   ]
  },
  {
   "cell_type": "code",
   "execution_count": 12,
   "id": "f66388c4",
   "metadata": {},
   "outputs": [
    {
     "name": "stdout",
     "output_type": "stream",
     "text": [
      "F1 Score: 0.838\n"
     ]
    }
   ],
   "source": [
    "print('F1 Score: %.3f' % f1_score(y_test, yhat3))"
   ]
  },
  {
   "cell_type": "markdown",
   "id": "c1579587",
   "metadata": {},
   "source": [
    "## Now Naive Bayes"
   ]
  },
  {
   "cell_type": "code",
   "execution_count": 13,
   "id": "2060b93e",
   "metadata": {},
   "outputs": [
    {
     "name": "stdout",
     "output_type": "stream",
     "text": [
      "score 0.9931625136573503\n",
      "confusion:\n",
      " [[56291   360]\n",
      " [   28    67]]\n",
      "F1 Score: 0.257\n"
     ]
    }
   ],
   "source": [
    "model4 = GaussianNB()\n",
    "model4.fit(X_train, y_train)\n",
    "# evaluate model\n",
    "yhat4 = model4.predict(X_test)\n",
    "# summarize performance\n",
    "print(\"score\", model4.score(X_test, y_test))\n",
    "print(\"confusion:\\n\", metrics.confusion_matrix(y_test, yhat4))\n",
    "print('F1 Score: %.3f' % f1_score(y_test, yhat4))"
   ]
  },
  {
   "cell_type": "code",
   "execution_count": null,
   "id": "66fcd8a8",
   "metadata": {},
   "outputs": [],
   "source": []
  }
 ],
 "metadata": {
  "kernelspec": {
   "display_name": "Python 3 (ipykernel)",
   "language": "python",
   "name": "python3"
  },
  "language_info": {
   "codemirror_mode": {
    "name": "ipython",
    "version": 3
   },
   "file_extension": ".py",
   "mimetype": "text/x-python",
   "name": "python",
   "nbconvert_exporter": "python",
   "pygments_lexer": "ipython3",
   "version": "3.9.12"
  }
 },
 "nbformat": 4,
 "nbformat_minor": 5
}
